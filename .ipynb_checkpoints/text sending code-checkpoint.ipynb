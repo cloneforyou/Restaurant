{
 "cells": [
  {
   "cell_type": "code",
   "execution_count": 1,
   "metadata": {},
   "outputs": [
    {
     "name": "stdout",
     "output_type": "stream",
     "text": [
      "Collecting twilio\n",
      "  Downloading https://files.pythonhosted.org/packages/fb/fc/16cc5df3bf578ab21926b6a7665e24ce540fe68ba6101762fd73e80348f2/twilio-6.20.0-py2.py3-none-any.whl (980kB)\n",
      "\u001b[K    100% |████████████████████████████████| 983kB 1.3MB/s eta 0:00:01    19% |██████▍                         | 194kB 14.4MB/s eta 0:00:01\n",
      "\u001b[?25hRequirement already satisfied: pytz in /usr/local/lib/python3.6/site-packages (from twilio)\n",
      "Collecting PyJWT>=1.4.2 (from twilio)\n",
      "  Downloading https://files.pythonhosted.org/packages/93/d1/3378cc8184a6524dc92993090ee8b4c03847c567e298305d6cf86987e005/PyJWT-1.6.4-py2.py3-none-any.whl\n",
      "Collecting pysocks; python_version >= \"3.0\" (from twilio)\n",
      "  Downloading https://files.pythonhosted.org/packages/53/12/6bf1d764f128636cef7408e8156b7235b150ea31650d0260969215bb8e7d/PySocks-1.6.8.tar.gz (283kB)\n",
      "\u001b[K    100% |████████████████████████████████| 286kB 4.4MB/s eta 0:00:01\n",
      "\u001b[?25hRequirement already satisfied: requests>=2.0.0; python_version >= \"3.0\" in /usr/local/lib/python3.6/site-packages (from twilio)\n",
      "Requirement already satisfied: six in /usr/local/lib/python3.6/site-packages (from twilio)\n",
      "Requirement already satisfied: certifi>=2017.4.17 in /usr/local/lib/python3.6/site-packages (from requests>=2.0.0; python_version >= \"3.0\"->twilio)\n",
      "Requirement already satisfied: idna<2.8,>=2.5 in /usr/local/lib/python3.6/site-packages (from requests>=2.0.0; python_version >= \"3.0\"->twilio)\n",
      "Requirement already satisfied: urllib3<1.25,>=1.21.1 in /usr/local/lib/python3.6/site-packages (from requests>=2.0.0; python_version >= \"3.0\"->twilio)\n",
      "Requirement already satisfied: chardet<3.1.0,>=3.0.2 in /usr/local/lib/python3.6/site-packages (from requests>=2.0.0; python_version >= \"3.0\"->twilio)\n",
      "Installing collected packages: PyJWT, pysocks, twilio\n",
      "  Running setup.py install for pysocks ... \u001b[?25ldone\n",
      "\u001b[?25hSuccessfully installed PyJWT-1.6.4 pysocks-1.6.8 twilio-6.20.0\n",
      "\u001b[33mYou are using pip version 9.0.1, however version 18.1 is available.\n",
      "You should consider upgrading via the 'pip install --upgrade pip' command.\u001b[0m\n"
     ]
    }
   ],
   "source": [
    "!pip install twilio"
   ]
  },
  {
   "cell_type": "code",
   "execution_count": 2,
   "metadata": {},
   "outputs": [],
   "source": [
    "from twilio.rest import TwilioRestClient"
   ]
  },
  {
   "cell_type": "code",
   "execution_count": null,
   "metadata": {},
   "outputs": [],
   "source": [
    "client = TwilioRestClient(\"AC58e6b883eca330c754e0c1f915aa1f72\", \"7e67902756dfa25441cfdf633a55e797\")\n",
    "client.messages.create(to=\"+12408936503\",\n",
    "                       from_=\"+16162013721\",\n",
    "                       body=\"厉害吧!\")"
   ]
  }
 ],
 "metadata": {
  "kernelspec": {
   "display_name": "Python 3",
   "language": "python",
   "name": "python3"
  },
  "language_info": {
   "codemirror_mode": {
    "name": "ipython",
    "version": 3
   },
   "file_extension": ".py",
   "mimetype": "text/x-python",
   "name": "python",
   "nbconvert_exporter": "python",
   "pygments_lexer": "ipython3",
   "version": "3.6.3"
  }
 },
 "nbformat": 4,
 "nbformat_minor": 2
}
