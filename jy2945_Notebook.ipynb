{
 "cells": [
  {
   "cell_type": "code",
   "execution_count": 4,
   "metadata": {},
   "outputs": [],
   "source": [
    "with open('./YelpAPIKeys.txt','r') as f:\n",
    "    count = 0\n",
    "    for line in f:\n",
    "        if count == 0:\n",
    "            CLIENT_ID = line.strip()\n",
    "        if count == 1:\n",
    "            API_KEY = line.strip()\n",
    "        count+=1"
   ]
  },
  {
   "cell_type": "code",
   "execution_count": 5,
   "metadata": {},
   "outputs": [
    {
     "name": "stdout",
     "output_type": "stream",
     "text": [
      "UFH0gcOYhVYWXEqxTXqoiQ \n",
      " ovv6T1Nhr_IMsxMQWLbe2K1kbo2AELjJ09yqk0VkiZcvdpksEqs1q4SoOpfLLUPxsHHz5tq5_oShbmfunhpn9G2qeY_xeGMqdwgTMYC2sWVXu9uULmqi32aAI-3ZW3Yx\n"
     ]
    }
   ],
   "source": [
    "print(CLIENT_ID,\"\\n\",API_KEY)"
   ]
  },
  {
   "cell_type": "code",
   "execution_count": 6,
   "metadata": {},
   "outputs": [],
   "source": [
    "API_HOST = 'https://api.yelp.com' \n",
    "SEARCH_PATH = '/v3/businesses/search' \n",
    "BUSINESS_PATH = '/v3/businesses/'"
   ]
  },
  {
   "cell_type": "code",
   "execution_count": null,
   "metadata": {},
   "outputs": [],
   "source": []
  }
 ],
 "metadata": {
  "kernelspec": {
   "display_name": "Python 3",
   "language": "python",
   "name": "python3"
  },
  "language_info": {
   "codemirror_mode": {
    "name": "ipython",
    "version": 3
   },
   "file_extension": ".py",
   "mimetype": "text/x-python",
   "name": "python",
   "nbconvert_exporter": "python",
   "pygments_lexer": "ipython3",
   "version": "3.6.3"
  }
 },
 "nbformat": 4,
 "nbformat_minor": 2
}
